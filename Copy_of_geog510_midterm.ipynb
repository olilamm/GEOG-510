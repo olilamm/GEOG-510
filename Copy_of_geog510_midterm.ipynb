{
  "cells": [
    {
      "cell_type": "markdown",
      "metadata": {
        "id": "view-in-github",
        "colab_type": "text"
      },
      "source": [
        "<a href=\"https://colab.research.google.com/github/olilamm/GEOG-510/blob/main/Copy_of_geog510_midterm.ipynb\" target=\"_parent\"><img src=\"https://colab.research.google.com/assets/colab-badge.svg\" alt=\"Open In Colab\"/></a>"
      ]
    },
    {
      "cell_type": "code",
      "execution_count": null,
      "id": "03c56513-daab-414e-9947-e88cf56afb24",
      "metadata": {
        "id": "03c56513-daab-414e-9947-e88cf56afb24"
      },
      "outputs": [],
      "source": [
        "from datetime import datetime\n",
        "\n",
        "now = datetime.now()\n",
        "print(f\"Submitted time: {now}\")"
      ]
    },
    {
      "cell_type": "markdown",
      "id": "949a0196",
      "metadata": {
        "id": "949a0196"
      },
      "source": [
        "## Question 1\n",
        "\n",
        "Create a new Python package and publish it on GitHub and PyPI. Do NOT use any packages that you created for previous assignments. The package must have GitHub Actions enabled, which allows you to automatically upload new releases from GitHub to PyPI. The package must also have the documentation website up and running. Complete the four questions below on this notebook and add the notebook to your GitHub repo for this new package. Add an `Open In Colab` badge to the notebook. Upon completion, you should have four hyperlinks to your GitHub repo, PyPI, documentation website, and the notebook. \n",
        "\n",
        "- GitHub: https://github.com/giswqs/geosdemo\n",
        "- PyPI: https://pypi.org/project/geosdemo\n",
        "- Docs: https://giswqs.github.io/geosdemo \n",
        "- Notebook: https://github.com/giswqs/geosdemo/blob/master/docs/labs/midterm.ipynb"
      ]
    },
    {
      "cell_type": "markdown",
      "id": "90210396-a683-4891-9dee-328f1bd98f00",
      "metadata": {
        "id": "90210396-a683-4891-9dee-328f1bd98f00"
      },
      "source": [
        "Your answers:\n",
        "- GitHub: \n",
        "- PyPI: \n",
        "- Docs: \n",
        "- Notebook:"
      ]
    },
    {
      "cell_type": "code",
      "source": [],
      "metadata": {
        "id": "SFQwFu0Kv9OC"
      },
      "id": "SFQwFu0Kv9OC",
      "execution_count": null,
      "outputs": []
    },
    {
      "cell_type": "markdown",
      "id": "d5c26851-64ab-4957-8d24-affa0af5c39e",
      "metadata": {
        "id": "d5c26851-64ab-4957-8d24-affa0af5c39e"
      },
      "source": [
        "## Question 2\n",
        "**Ordinal numbers**: Ordinal numbers indicate their position in a list, such as 1st or 2nd. Most ordinal numbers end in *th*, except 1, 2, and 3. Write a program that repeatedly prompts a user for a number and prints out its corresponding ordinal number. Your program must be able to handle any integer, not just numbers between 1 and 10. If the user enters an invalid number, the program should prompt users to enter a valid number. When the user enters `quit`, the program stops. \n",
        "\n",
        "Sample output:\n",
        "\n",
        "```text\n",
        "Enter a number (enter 'quit' to exit):  1\n",
        "The ordinal number of 1 is: 1st\n",
        "Enter a number (enter 'quit' to exit):  2\n",
        "The ordinal number of 2 is: 2nd\n",
        "Enter a number (enter 'quit' to exit):  3\n",
        "The ordinal number of 3 is: 3rd\n",
        "Enter a number (enter 'quit' to exit):  5\n",
        "The ordinal number of 5 is: 5th\n",
        "Enter a number (enter 'quit' to exit):  11\n",
        "The ordinal number of 11 is: 11th\n",
        "Enter a number (enter 'quit' to exit):  12\n",
        "The ordinal number of 12 is: 12th\n",
        "Enter a number (enter 'quit' to exit):  13\n",
        "The ordinal number of 13 is: 13th\n",
        "Enter a number (enter 'quit' to exit):  21\n",
        "The ordinal number of 21 is: 21st\n",
        "Enter a number (enter 'quit' to exit):  22\n",
        "The ordinal number of 22 is: 22nd\n",
        "Enter a number (enter 'quit' to exit):  23\n",
        "The ordinal number of 23 is: 23rd\n",
        "Enter a number (enter 'quit' to exit):  99\n",
        "The ordinal number of 99 is: 99th\n",
        "Enter a number (enter 'quit' to exit):  101\n",
        "The ordinal number of 101 is: 101st\n",
        "Enter a number (enter 'quit' to exit):  hello\n",
        "hello is an invalid number. Please enter an integer number!\n",
        "Enter a number (enter 'quit' to exit):  haha\n",
        "haha is an invalid number. Please enter an integer number!\n",
        "Enter a number (enter 'quit' to exit):  quit\n",
        "```"
      ]
    },
    {
      "cell_type": "code",
      "source": [
        "def ordinal(n):\n",
        "  n = int(input(\"Please enter a number (enter 'quit' to exit: \"))\n",
        "  if 11 <= (n % 100) <= 13:\n",
        "      suffix = 'th'\n",
        "  else:\n",
        "      suffix = ['th', 'st', 'nd', 'rd', 'th'][min(n % 10, 4)]\n",
        "  return str(n) + suffix\n",
        "print(\"The ordinal number is \" +str(n) + \" is \" + str([(ordinal(n)) for n in n()])"
      ],
      "metadata": {
        "colab": {
          "base_uri": "https://localhost:8080/",
          "height": 130
        },
        "id": "vlPaw6zK87zG",
        "outputId": "91fb1532-e629-4b27-e986-57c73062b03e"
      },
      "id": "vlPaw6zK87zG",
      "execution_count": 43,
      "outputs": [
        {
          "output_type": "error",
          "ename": "SyntaxError",
          "evalue": "ignored",
          "traceback": [
            "\u001b[0;36m  File \u001b[0;32m\"<ipython-input-43-08e64dedd5b4>\"\u001b[0;36m, line \u001b[0;32m8\u001b[0m\n\u001b[0;31m    print(\"The ordinal number is \" +str(n) + \" is \" + str([(ordinal(n)) for n in n()])\u001b[0m\n\u001b[0m                                                                                      ^\u001b[0m\n\u001b[0;31mSyntaxError\u001b[0m\u001b[0;31m:\u001b[0m unexpected EOF while parsing\n"
          ]
        }
      ]
    },
    {
      "cell_type": "markdown",
      "id": "3e211adf-8d3f-4323-b9ea-35809bb12e66",
      "metadata": {
        "id": "3e211adf-8d3f-4323-b9ea-35809bb12e66"
      },
      "source": [
        "## Question 3\n",
        "**Compute median:** Write a program that repeatedly prompts a user for numbers until the user enters `quit`. Once `quit` is entered, print out the median value of the numbers. If the user enters anything other than a valid number put out an appropriate message and ignore the number.\n",
        "\n",
        "Sample output:\n",
        "```text\n",
        "Enter a number (enter 'quit' to exit):  7\n",
        "Enter a number (enter 'quit' to exit):  8\n",
        "Enter a number (enter 'quit' to exit):  9\n",
        "Enter a number (enter 'quit' to exit):  haha\n",
        "Invalid input. Please enter a valid number.\n",
        "Enter a number (enter 'quit' to exit):  10\n",
        "Enter a number (enter 'quit' to exit):  quit\n",
        "The median value of the numbers [7.0, 8.0, 9.0, 10.0] is 8.5.\n",
        "```"
      ]
    },
    {
      "cell_type": "code",
      "source": [
        "while True:\n",
        "  inp = input(\"Please enter the first number (enter 'quit' to exit): \")\n",
        "  numlist = []\n",
        "  numlist.append(inp)\n",
        "  median = len(numlist) // 2\n",
        "  if inp == \"quit\":\n",
        "    break\n",
        "  try:\n",
        "    inp_data = int(inp)\n",
        "    print(\"The median value of the numbers \" + str(inp) + \" is \" + str(median))\n",
        "  except ValueError: \n",
        "    print(\"I'm sorry, what you inputted was not a number. Please try again!\")\n",
        "  \n"
      ],
      "metadata": {
        "colab": {
          "base_uri": "https://localhost:8080/"
        },
        "id": "5ANCtX_M7bAI",
        "outputId": "890fce2c-7adb-4c7b-bf06-50a87aa087ee"
      },
      "id": "5ANCtX_M7bAI",
      "execution_count": 33,
      "outputs": [
        {
          "name": "stdout",
          "output_type": "stream",
          "text": [
            "Please enter the first number (enter 'quit' to exit): 4\n",
            "The median value of the numbers 4 is 0\n",
            "Please enter the first number (enter 'quit' to exit): 5\n",
            "The median value of the numbers 5 is 0\n",
            "Please enter the first number (enter 'quit' to exit): quit\n"
          ]
        }
      ]
    },
    {
      "cell_type": "markdown",
      "id": "e20f5fbb-f164-44b2-808a-fd815f0b8ed8",
      "metadata": {
        "id": "e20f5fbb-f164-44b2-808a-fd815f0b8ed8"
      },
      "source": [
        "## Question 4\n",
        "**Count Words:** Based on the text file [A-Tale-of-Two-Cities.txt](https://raw.githubusercontent.com/giswqs/geosdemo/master/docs/python/data/A-Tale-of-Two-Cities.txt), write a program that repeatly prompts a user to enter a word or phrase and finds out how many times it appears in the text file. When a user enters `quit`, the program stops. \n",
        "\n",
        "Sample output:\n",
        "```text\n",
        "Enter a word or phrase to search for (enter 'quit' to exit):  the\n",
        "'the' appears 10694 times in the file.\n",
        "Enter a word or phrase to search for (enter 'quit' to exit):  season\n",
        "'season' appears 8 times in the file.\n",
        "Enter a word or phrase to search for (enter 'quit' to exit):  country\n",
        "'country' appears 42 times in the file.\n",
        "Enter a word or phrase to search for (enter 'quit' to exit):  hello\n",
        "'hello' appears 0 times in the file.\n",
        "Enter a word or phrase to search for (enter 'quit' to exit):  love\n",
        "'love' appears 77 times in the file.\n",
        "Enter a word or phrase to search for (enter 'quit' to exit):  quit\n",
        "```"
      ]
    },
    {
      "cell_type": "code",
      "execution_count": 19,
      "id": "22a29906",
      "metadata": {
        "id": "22a29906",
        "colab": {
          "base_uri": "https://localhost:8080/"
        },
        "outputId": "61d26eb0-2748-416c-9d6f-b05bc6d65d24"
      },
      "outputs": [
        {
          "name": "stdout",
          "output_type": "stream",
          "text": [
            "Enter a word pr phrase to search for (enter 'quit' to exit): the\n",
            "the appears 161 times in the file.\n",
            "Enter a word pr phrase to search for (enter 'quit' to exit): happy\n",
            "happy appears 161 times in the file.\n",
            "Enter a word pr phrase to search for (enter 'quit' to exit): scared\n",
            "scared appears 161 times in the file.\n",
            "Enter a word pr phrase to search for (enter 'quit' to exit): quit\n"
          ]
        }
      ],
      "source": [
        "while True:\n",
        "  word = input(\"Enter a word pr phrase to search for (enter 'quit' to exit): \")\n",
        "  if word == \"quit\":\n",
        "    break \n",
        "  with open(\"twocities.txt\") as twocities:\n",
        "    lines = twocities.readlines()\n",
        "    count = 0\n",
        "    for line in lines:\n",
        "      count += line.count(\"word\")\n",
        "    print(word + \" appears \" + str(count) + \" times in the file.\")\n"
      ]
    },
    {
      "cell_type": "code",
      "execution_count": null,
      "id": "9df4cbfd",
      "metadata": {
        "id": "9df4cbfd"
      },
      "outputs": [],
      "source": []
    },
    {
      "cell_type": "code",
      "execution_count": null,
      "id": "5ea38f4f-6bdb-4d3a-af10-8600088167f2",
      "metadata": {
        "id": "5ea38f4f-6bdb-4d3a-af10-8600088167f2"
      },
      "outputs": [],
      "source": []
    },
    {
      "cell_type": "markdown",
      "id": "7c064842",
      "metadata": {
        "id": "7c064842"
      },
      "source": [
        "## Question 5\n",
        "\n",
        "Write a program that counts the number of unique words in a text file. The program should repeatedly prompt a user to enter a file name and print out the number of unique words in the file. When a user enters `quit`, the program stops. If the input file does not exist, the program should print out an error message and prompt users to enter a valid filename.\n",
        "\n",
        "Some sample text files are available at:\n",
        "- [A-Tale-of-Two-Cities.txt](https://raw.githubusercontent.com/giswqs/geosdemo/master/docs/python/data/A-Tale-of-Two-Cities.txt)\n",
        "- [little_women.txt](https://raw.githubusercontent.com/giswqs/geosdemo/master/docs/python/data/little_women.txt)\n",
        "- [alice.txt](https://raw.githubusercontent.com/giswqs/geosdemo/master/docs/python/data/alice.txt)\n",
        "\n",
        "Sample output:\n",
        "```text\n",
        "Enter the filename:  A-Tale-of-Two-Cities.txt\n",
        "There are 19666 unique words in the file A-Tale-of-Two-Cities.txt\n",
        "Enter the filename:  little_women.txt\n",
        "There are 21050 unique words in the file little_women.txt\n",
        "Enter the filename:  alice.txt\n",
        "There are 6018 unique words in the file alice.txt\n",
        "Enter the filename:  hello_world.txt\n",
        "File 'hello_world.txt' not found. Please enter a valid filename.\n",
        "Enter the filename:  serious.txt\n",
        "File 'serious.txt' not found. Please enter a valid filename.\n",
        "Enter the filename:  I am done\n",
        "File 'I am done' not found. Please enter a valid filename.\n",
        "Enter the filename:  quit\n",
        "```"
      ]
    },
    {
      "cell_type": "code",
      "execution_count": 13,
      "id": "a664f044",
      "metadata": {
        "id": "a664f044",
        "colab": {
          "base_uri": "https://localhost:8080/"
        },
        "outputId": "a1958ced-9675-466c-82bc-64bd112fffc5"
      },
      "outputs": [
        {
          "name": "stdout",
          "output_type": "stream",
          "text": [
            "Please enter a txt filename: littlewomen.txt\n",
            "There are 1122998 unique words in the file littlewomen.txt\n",
            "Please enter a txt filename: hardyboys.txt\n",
            "File hardyboys.txt cannot be found. Please try again.\n",
            "Please enter a txt filename: quit\n"
          ]
        }
      ],
      "source": [
        "while True:\n",
        "  filename = input(\"Please enter a txt filename: \")\n",
        "  if filename == \"quit\":\n",
        "    break\n",
        "  try:\n",
        "    with open(filename) as file_response:\n",
        "      lines = file_response.readlines()\n",
        "      count = 0\n",
        "      for line in lines:\n",
        "        count += line.count(\"\")\n",
        "      print(\"There are \" + str(count) + \" unique words in the file \" + filename)\n",
        "  except FileNotFoundError:\n",
        "    print(\"File \" + filename + \" cannot be found. Please try again.\")"
      ]
    }
  ],
  "metadata": {
    "kernelspec": {
      "display_name": "Python 3 (ipykernel)",
      "language": "python",
      "name": "python3"
    },
    "language_info": {
      "codemirror_mode": {
        "name": "ipython",
        "version": 3
      },
      "file_extension": ".py",
      "mimetype": "text/x-python",
      "name": "python",
      "nbconvert_exporter": "python",
      "pygments_lexer": "ipython3",
      "version": "3.10.8"
    },
    "colab": {
      "provenance": [],
      "include_colab_link": true
    }
  },
  "nbformat": 4,
  "nbformat_minor": 5
}