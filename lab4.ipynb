{
  "cells": [
    {
      "cell_type": "markdown",
      "metadata": {
        "id": "view-in-github",
        "colab_type": "text"
      },
      "source": [
        "<a href=\"https://colab.research.google.com/github/olilamm/GEOG-510/blob/main/lab4.ipynb\" target=\"_parent\"><img src=\"https://colab.research.google.com/assets/colab-badge.svg\" alt=\"Open In Colab\"/></a>"
      ]
    },
    {
      "cell_type": "markdown",
      "id": "beb550f5",
      "metadata": {
        "id": "beb550f5"
      },
      "source": [
        "# Lab 4\n",
        "\n",
        "[![image](https://colab.research.google.com/assets/colab-badge.svg)](https://colab.research.google.com/github/giswqs/geosdemo/blob/master/docs/labs/lab4.ipynb)\n",
        "\n",
        "## Submission instructions\n",
        "\n",
        "1. Download the notebook from https://geosdemo.gishub.org/labs/lab4\n",
        "2. Complete the lab questions\n",
        "3. Restart Kernel and Run All Cells\n",
        "4. Upload the notebook to your GitHub repository\n",
        "5. Make sure the notebook has an `Open In Colab` badge. Click on the badge to make sure your notebook can be opened in Colab.\n",
        "6. Submit the link to the notebook on your GitHub repository to Canvas"
      ]
    },
    {
      "cell_type": "code",
      "execution_count": 1,
      "id": "bfc1ddc5",
      "metadata": {
        "vscode": {
          "languageId": "python"
        },
        "id": "bfc1ddc5",
        "colab": {
          "base_uri": "https://localhost:8080/"
        },
        "outputId": "5b5d2c1c-464f-45c3-cdc5-88e0b83023e2"
      },
      "outputs": [
        {
          "output_type": "stream",
          "name": "stdout",
          "text": [
            "Submitted time: 2023-03-10 17:48:20.610877\n"
          ]
        }
      ],
      "source": [
        "from datetime import datetime\n",
        "\n",
        "now = datetime.now()\n",
        "print(f\"Submitted time: {now}\")"
      ]
    },
    {
      "cell_type": "markdown",
      "id": "7e96934a",
      "metadata": {
        "id": "7e96934a"
      },
      "source": [
        "## Question 1\n",
        "\n",
        "**Personal Message:** Use a variable to represent a person’s name, and print a message to that person. Your message should be simple, such as, “Hello Eric, would you like to learn some Python today?”"
      ]
    },
    {
      "cell_type": "code",
      "execution_count": 5,
      "id": "063a8cb4",
      "metadata": {
        "vscode": {
          "languageId": "python"
        },
        "id": "063a8cb4",
        "colab": {
          "base_uri": "https://localhost:8080/"
        },
        "outputId": "9cb12270-2b39-41f5-e77b-f594c8c4bdf1"
      },
      "outputs": [
        {
          "output_type": "stream",
          "name": "stdout",
          "text": [
            "What is your name: Olivia\n",
            "Hello Olivia, would you like to learn some Python today?\n"
          ]
        }
      ],
      "source": [
        "name = input('What is your name: ')\n",
        "print('Hello ' + name +', would you like to learn some Python today?')"
      ]
    },
    {
      "cell_type": "markdown",
      "id": "83c4c9e9",
      "metadata": {
        "id": "83c4c9e9"
      },
      "source": [
        "## Question 2\n",
        "\n",
        "**Name Cases:** Use a variable to represent a person’s name, and then print that person’s name in lowercase, uppercase, and title case."
      ]
    },
    {
      "cell_type": "code",
      "execution_count": 11,
      "id": "35cfbbec",
      "metadata": {
        "vscode": {
          "languageId": "python"
        },
        "id": "35cfbbec",
        "colab": {
          "base_uri": "https://localhost:8080/"
        },
        "outputId": "c583db85-a552-409f-dd4f-8b9651e22e12"
      },
      "outputs": [
        {
          "output_type": "stream",
          "name": "stdout",
          "text": [
            "What is your name: olivia lamm\n",
            "OLIVIA LAMM\n",
            "olivia lamm\n",
            "Olivia Lamm\n"
          ]
        }
      ],
      "source": [
        "name = input('What is your name: ')\n",
        "print(name.upper())\n",
        "print(name.lower()) \n",
        "print(name.title())\n"
      ]
    },
    {
      "cell_type": "markdown",
      "id": "8c8e92e4",
      "metadata": {
        "id": "8c8e92e4"
      },
      "source": [
        "## Question 3\n",
        "\n",
        "**Famous Quote:** Find a quote from a famous person you admire. Print the quote and the name of its author. Your output should look something like the following, including the quotation marks:\n",
        "\n",
        "```\n",
        "Albert Einstein once said, “A person who never made a mistake never tried anything new.”\n",
        "```"
      ]
    },
    {
      "cell_type": "code",
      "execution_count": 15,
      "id": "3bed6cb5",
      "metadata": {
        "vscode": {
          "languageId": "python"
        },
        "id": "3bed6cb5",
        "colab": {
          "base_uri": "https://localhost:8080/"
        },
        "outputId": "c2bbb146-0d96-423f-b2d1-35cba464fe66"
      },
      "outputs": [
        {
          "output_type": "stream",
          "name": "stdout",
          "text": [
            "Anne Frank once said, \"Whoever is happy will make others happy too.\"\n"
          ]
        }
      ],
      "source": [
        "quote = \"Whoever is happy will make others happy too.\"\n",
        "author = \"Anne Frank\"\n",
        "\n",
        "print(author + ' once said, \"' + quote+'\"')"
      ]
    },
    {
      "cell_type": "markdown",
      "id": "4b46d366",
      "metadata": {
        "id": "4b46d366"
      },
      "source": [
        "## Question 4\n",
        "\n",
        "**Stripping Names:** Use a variable to represent a person’s name, and include some whitespace characters at the beginning and end of the name. Make sure you use each character combination, \"\\t\" and \"\\n\", at least once.\n",
        "Print the name once, so the whitespace around the name is displayed. Then print the name using each of the three stripping functions, lstrip(), rstrip(), and strip()."
      ]
    },
    {
      "cell_type": "code",
      "execution_count": 27,
      "id": "bb5dbb0f",
      "metadata": {
        "vscode": {
          "languageId": "python"
        },
        "id": "bb5dbb0f",
        "colab": {
          "base_uri": "https://localhost:8080/"
        },
        "outputId": "1bfaeb3d-8585-43c5-e52b-bad66639c1e5"
      },
      "outputs": [
        {
          "output_type": "stream",
          "name": "stdout",
          "text": [
            "What is your name: Olivia Lamm\n",
            "\tOlivia Lamm\t\n",
            "Olivia Lamm\t\n",
            "\tOlivia Lamm\n",
            "Olivia Lamm\n"
          ]
        }
      ],
      "source": [
        "name = input('What is your name: ')\n",
        "name = '\\t' + name + '\\t'\n",
        "print(name+'\\n'+name.lstrip()+'\\n'+name.rstrip()+'\\n'+name.strip())"
      ]
    },
    {
      "cell_type": "markdown",
      "id": "32cce0d9",
      "metadata": {
        "id": "32cce0d9"
      },
      "source": [
        "## Question 5\n",
        "\n",
        "**Names:** Store the names of a few of your friends in a list called names. Print\n",
        "each person’s name by accessing each element in the list, one at a time."
      ]
    },
    {
      "cell_type": "code",
      "execution_count": 28,
      "id": "13da6459",
      "metadata": {
        "vscode": {
          "languageId": "python"
        },
        "id": "13da6459",
        "colab": {
          "base_uri": "https://localhost:8080/"
        },
        "outputId": "625d491c-d8ae-4303-eef8-f0a9c6f5117e"
      },
      "outputs": [
        {
          "output_type": "stream",
          "name": "stdout",
          "text": [
            "Brittany\n",
            "\n",
            "Gianna\n",
            "\n",
            "Erica\n",
            "\n",
            "Samer\n",
            "\n"
          ]
        }
      ],
      "source": [
        "names = ['Brittany','Gianna','Erica','Samer']\n",
        "for name in names:\n",
        "  print(name+'\\n')"
      ]
    },
    {
      "cell_type": "markdown",
      "id": "aaaa5c8f",
      "metadata": {
        "id": "aaaa5c8f"
      },
      "source": [
        "## Question 6\n",
        "\n",
        "**Your Own List:** Think of your favorite mode of transportation, such as a motorcycle or a car, and make a list that stores several examples. Use your list to print a series of statements about these items, such as “I would like to own a Honda motorcycle.”"
      ]
    },
    {
      "cell_type": "code",
      "execution_count": 29,
      "id": "eba0829e",
      "metadata": {
        "vscode": {
          "languageId": "python"
        },
        "id": "eba0829e",
        "colab": {
          "base_uri": "https://localhost:8080/"
        },
        "outputId": "2dee9bca-ffb4-432d-e2f0-e2e5b1476b16"
      },
      "outputs": [
        {
          "output_type": "stream",
          "name": "stdout",
          "text": [
            "I own a hybrid car\n",
            "I do not like motorcycles\n",
            "I have never been on a train\n"
          ]
        }
      ],
      "source": [
        "transportation = ['car', 'motorcycle', 'train']\n",
        "\n",
        "for x in transportation:\n",
        "  if x == 'car':\n",
        "    print(\"I own a hybrid \" + x)\n",
        "  if x == 'motorcycle':\n",
        "    print(\"I do not like \" + x +'s')\n",
        "  if x == 'train':\n",
        "    print(\"I have never been on a \" + x)"
      ]
    },
    {
      "cell_type": "markdown",
      "id": "e4b4452f",
      "metadata": {
        "id": "e4b4452f"
      },
      "source": [
        "## Question 7\n",
        "\n",
        "**Pizzas:** Think of at least three kinds of your favorite pizza. Store these pizza names in a list, and then use a for loop to print the name of each pizza.\n",
        "\n",
        "Modify your for loop to print a sentence using the name of the pizza instead of printing just the name of the pizza. For each pizza you should have one line of output containing a simple statement like _I like pepperoni pizza._"
      ]
    },
    {
      "cell_type": "code",
      "execution_count": 31,
      "id": "37cdb68e",
      "metadata": {
        "vscode": {
          "languageId": "python"
        },
        "id": "37cdb68e",
        "colab": {
          "base_uri": "https://localhost:8080/"
        },
        "outputId": "ed37ac76-9d0c-4e0f-d80e-5f11d1352799"
      },
      "outputs": [
        {
          "output_type": "stream",
          "name": "stdout",
          "text": [
            "I love cheese pizza\n",
            "I love pepperoni pizza\n",
            "I love meat lovers pizza\n"
          ]
        }
      ],
      "source": [
        "pizza = ['cheese', 'pepperoni', 'meat lovers']\n",
        "\n",
        "for x in pizza:\n",
        "  print(\"I love \"+ x + \" pizza\")"
      ]
    },
    {
      "cell_type": "markdown",
      "id": "b3b70e8e",
      "metadata": {
        "id": "b3b70e8e"
      },
      "source": [
        "Add a line at the end of your program, outside the for loop, that states how much you like pizza. The output should consist of three or more lines about the kinds of pizza you like and then an additional sentence, such as _I really love pizza!_"
      ]
    },
    {
      "cell_type": "code",
      "execution_count": 36,
      "id": "11b4528c",
      "metadata": {
        "vscode": {
          "languageId": "python"
        },
        "id": "11b4528c",
        "colab": {
          "base_uri": "https://localhost:8080/"
        },
        "outputId": "0be6248c-9324-4105-c8c0-a50dfef43c02"
      },
      "outputs": [
        {
          "output_type": "stream",
          "name": "stdout",
          "text": [
            "I love cheese pizza\n",
            "I love pepperoni pizza\n",
            "I love meat lovers pizza\n",
            "\n",
            "I also like sausage on my pizza.\n",
            "I like vegetables on my pizza.\n",
            "I don't like pineapple on my pizza.\n",
            "I really love pizza!\n"
          ]
        }
      ],
      "source": [
        "pizza = ['cheese', 'pepperoni', 'meat lovers']\n",
        "\n",
        "for x in pizza:\n",
        "  print(\"I love \"+ x + \" pizza\")\n",
        "\n",
        "print(\"\\nI also like sausage on my pizza.\\nI like vegetables on my pizza.\\nI don't like pineapple on my pizza.\\nI really love pizza!\")"
      ]
    },
    {
      "cell_type": "markdown",
      "id": "6e42f992",
      "metadata": {
        "id": "6e42f992"
      },
      "source": [
        "## Question 8\n",
        "\n",
        "**Animals:** Think of at least three different animals that have a common characteristic. Store the names of these animals in a list, and then use a for loop to print out the name of each animal.\n",
        "\n",
        "Modify your program to print a statement about each animal, such as _A dog would make a great pet._"
      ]
    },
    {
      "cell_type": "code",
      "execution_count": 38,
      "id": "7489fb55",
      "metadata": {
        "vscode": {
          "languageId": "python"
        },
        "id": "7489fb55",
        "colab": {
          "base_uri": "https://localhost:8080/"
        },
        "outputId": "1e295471-7632-424f-ebb7-f6164c4150af"
      },
      "outputs": [
        {
          "output_type": "stream",
          "name": "stdout",
          "text": [
            "Pandas are very cute\n",
            "Tigers are very scary\n",
            "Polar Bears are very endangered\n"
          ]
        }
      ],
      "source": [
        "animals = ['panda', 'tiger', 'polar bear']\n",
        "\n",
        "for x in animals:\n",
        "  if x == 'panda':\n",
        "    print(x.title() + \"s are very cute\")\n",
        "  if x == 'tiger':\n",
        "    print(x.title() + \"s are very scary\")\n",
        "  if x == 'polar bear':\n",
        "    print(x.title() + \"s are very endangered\")"
      ]
    },
    {
      "cell_type": "markdown",
      "id": "b4484392",
      "metadata": {
        "id": "b4484392"
      },
      "source": [
        "Add a line at the end of your program stating what these animals have in common. You could print a sentence such as _Any of these animals would make a great pet!_"
      ]
    },
    {
      "cell_type": "code",
      "execution_count": 41,
      "id": "eb9f8e19",
      "metadata": {
        "vscode": {
          "languageId": "python"
        },
        "id": "eb9f8e19",
        "colab": {
          "base_uri": "https://localhost:8080/"
        },
        "outputId": "02337436-088b-4519-820d-e23281bbf8b7"
      },
      "outputs": [
        {
          "output_type": "stream",
          "name": "stdout",
          "text": [
            "Pandas are very cute\n",
            "Tigers are very scary\n",
            "Polar Bears are very endangered\n",
            "All of these animals are at the zoo\n"
          ]
        }
      ],
      "source": [
        "animals = ['panda', 'tiger', 'polar bear']\n",
        "\n",
        "for x in animals:\n",
        "  if x == 'panda':\n",
        "    print(x.title() + \"s are very cute\")\n",
        "  if x == 'tiger':\n",
        "    print(x.title() + \"s are very scary\")\n",
        "  if x == 'polar bear':\n",
        "    print(x.title() + \"s are very endangered\")\n",
        "  \n",
        "print(\"All of these animals are at the zoo\") "
      ]
    },
    {
      "cell_type": "markdown",
      "id": "ba99ccb5",
      "metadata": {
        "id": "ba99ccb5"
      },
      "source": [
        "## Question 9\n",
        "\n",
        "**Summing a Hundred:** Make a list of the numbers from one to one hundred, and then use `min()` and `max()` to make sure your list actually starts at one and ends at one hundred. Also, use the sum() function to see how quickly Python can add a hundred numbers."
      ]
    },
    {
      "cell_type": "code",
      "execution_count": 48,
      "id": "6c6a27a9",
      "metadata": {
        "vscode": {
          "languageId": "python"
        },
        "id": "6c6a27a9",
        "colab": {
          "base_uri": "https://localhost:8080/"
        },
        "outputId": "e508936a-6cd0-46d2-9671-74c3ba127e1f"
      },
      "outputs": [
        {
          "output_type": "stream",
          "name": "stdout",
          "text": [
            "1 100\n",
            "5050\n"
          ]
        }
      ],
      "source": [
        "num_list = range(1, 101)\n",
        "\n",
        "print(str(min(num_list)) + \" \" +str(max(num_list)))\n",
        "\n",
        "sum = 0\n",
        "for x in num_list:\n",
        "  sum = sum + x\n",
        "print(sum)"
      ]
    },
    {
      "cell_type": "markdown",
      "id": "d165cd3c",
      "metadata": {
        "id": "d165cd3c"
      },
      "source": [
        "## Question 10\n",
        "\n",
        "**Odd Numbers:** Use the third argument of the `range()` function to make a list of the odd numbers from 1 to 20. Use a `for` loop to print each number."
      ]
    },
    {
      "cell_type": "code",
      "execution_count": 49,
      "id": "d276920a",
      "metadata": {
        "vscode": {
          "languageId": "python"
        },
        "id": "d276920a",
        "colab": {
          "base_uri": "https://localhost:8080/"
        },
        "outputId": "57f66da8-3967-4414-eba2-f4bfae273d4d"
      },
      "outputs": [
        {
          "output_type": "stream",
          "name": "stdout",
          "text": [
            "1\n",
            "3\n",
            "5\n",
            "7\n",
            "9\n",
            "11\n",
            "13\n",
            "15\n",
            "17\n",
            "19\n"
          ]
        }
      ],
      "source": [
        "num_list = range(1, 21, 2)\n",
        "\n",
        "for x in num_list:\n",
        "  print(x)"
      ]
    },
    {
      "cell_type": "markdown",
      "id": "9e49d9eb",
      "metadata": {
        "id": "9e49d9eb"
      },
      "source": [
        "## Question 11\n",
        "\n",
        "**Threes:** Make a list of the multiples of 3 from 3 to 30. Use a `for` loop to print the numbers in your list."
      ]
    },
    {
      "cell_type": "code",
      "execution_count": 50,
      "id": "4ff24fc6",
      "metadata": {
        "vscode": {
          "languageId": "python"
        },
        "id": "4ff24fc6",
        "colab": {
          "base_uri": "https://localhost:8080/"
        },
        "outputId": "ccfe825c-9717-43f6-a315-67640b9faf3f"
      },
      "outputs": [
        {
          "output_type": "stream",
          "name": "stdout",
          "text": [
            "3\n",
            "6\n",
            "9\n",
            "12\n",
            "15\n",
            "18\n",
            "21\n",
            "24\n",
            "27\n"
          ]
        }
      ],
      "source": [
        "num_list = range(3, 30, 3)\n",
        "\n",
        "for x in num_list:\n",
        "  print(x)"
      ]
    },
    {
      "cell_type": "markdown",
      "id": "dbcce457",
      "metadata": {
        "id": "dbcce457"
      },
      "source": [
        "## Question 12\n",
        "\n",
        "**Cube Comprehension:** Use a list comprehension to generate a list of the first 10 cubes."
      ]
    },
    {
      "cell_type": "code",
      "execution_count": 51,
      "id": "df0901f8",
      "metadata": {
        "vscode": {
          "languageId": "python"
        },
        "id": "df0901f8",
        "colab": {
          "base_uri": "https://localhost:8080/"
        },
        "outputId": "8030f76a-b3c5-46b8-b069-b46f6749b364"
      },
      "outputs": [
        {
          "output_type": "stream",
          "name": "stdout",
          "text": [
            "[1, 8, 27, 64, 125, 216, 343, 512, 729, 1000]\n"
          ]
        }
      ],
      "source": [
        "first = range(1, 11)\n",
        "cubes = [c*c*c for c in first]\n",
        "print(cubes)\n"
      ]
    },
    {
      "cell_type": "markdown",
      "id": "c6946e7b",
      "metadata": {
        "id": "c6946e7b"
      },
      "source": [
        "## Question 13\n",
        "\n",
        "**Slices:** Using one of the programs you wrote in this lab, add several lines to the end of the program that do the following:\n",
        "\n",
        "Print the message _The first three items in the list are:_. Then use a slice to print the first three items from that program’s list."
      ]
    },
    {
      "cell_type": "code",
      "execution_count": 65,
      "id": "0e03e488",
      "metadata": {
        "vscode": {
          "languageId": "python"
        },
        "id": "0e03e488",
        "colab": {
          "base_uri": "https://localhost:8080/"
        },
        "outputId": "bea5c120-ba77-4a08-88cd-f95fdd8f0991"
      },
      "outputs": [
        {
          "output_type": "stream",
          "name": "stdout",
          "text": [
            "The first three items in the list are: ['Brittany', 'Gianna', 'Erica']\n"
          ]
        }
      ],
      "source": [
        "names = ['Brittany','Gianna','Erica','Samer', 'Luke']\n",
        "print('The first three items in the list are: ' + str(names[slice(3)]))"
      ]
    },
    {
      "cell_type": "markdown",
      "id": "6f88722c",
      "metadata": {
        "id": "6f88722c"
      },
      "source": [
        "Print the message _Three items from the middle of the list are:_. Use a slice to print three items from the middle of the list."
      ]
    },
    {
      "cell_type": "code",
      "execution_count": 59,
      "id": "6859a061",
      "metadata": {
        "vscode": {
          "languageId": "python"
        },
        "id": "6859a061",
        "colab": {
          "base_uri": "https://localhost:8080/"
        },
        "outputId": "083a6b0a-9b0b-4cbe-f1c5-996292620192"
      },
      "outputs": [
        {
          "output_type": "stream",
          "name": "stdout",
          "text": [
            "Three itms from the middle of the list are: ['Gianna', 'Erica', 'Samer']\n"
          ]
        }
      ],
      "source": [
        "print(\"Three itms from the middle of the list are: \" + str(names[slice(1,4)]))"
      ]
    },
    {
      "cell_type": "markdown",
      "id": "0abc8cec",
      "metadata": {
        "id": "0abc8cec"
      },
      "source": [
        "Print the message _The last three items in the list are:_. Use a slice to print the last three items in the list."
      ]
    },
    {
      "cell_type": "code",
      "execution_count": 66,
      "id": "64988cac",
      "metadata": {
        "vscode": {
          "languageId": "python"
        },
        "id": "64988cac",
        "colab": {
          "base_uri": "https://localhost:8080/"
        },
        "outputId": "1f74c812-64ec-46b8-bf27-421b16e61cb1"
      },
      "outputs": [
        {
          "output_type": "stream",
          "name": "stdout",
          "text": [
            "The last three names in the list are: ['Erica', 'Samer', 'Luke']\n"
          ]
        }
      ],
      "source": [
        "print(\"The last three names in the list are: \" + str(names[slice(2,5)]))"
      ]
    },
    {
      "cell_type": "markdown",
      "id": "36876b9d",
      "metadata": {
        "id": "36876b9d"
      },
      "source": [
        "## Question 14\n",
        "\n",
        "**Buffet:** A buffet-style restaurant offers only five basic foods. Think of five simple foods, and store them in a tuple.\n",
        "\n",
        "Use a for loop to print each food the restaurant offers."
      ]
    },
    {
      "cell_type": "code",
      "execution_count": 67,
      "id": "6f186d8a",
      "metadata": {
        "vscode": {
          "languageId": "python"
        },
        "id": "6f186d8a",
        "colab": {
          "base_uri": "https://localhost:8080/"
        },
        "outputId": "f4253105-09c6-4e20-ebf0-5bbde3659e03"
      },
      "outputs": [
        {
          "output_type": "stream",
          "name": "stdout",
          "text": [
            "sushi\n",
            "pizza\n",
            "pasta\n",
            "hummus\n",
            "cake\n"
          ]
        }
      ],
      "source": [
        "foods = ('sushi','pizza','pasta','hummus','cake')\n",
        "\n",
        "for food in foods:\n",
        "  print(food)"
      ]
    },
    {
      "cell_type": "markdown",
      "id": "0a6ba7f3",
      "metadata": {
        "id": "0a6ba7f3"
      },
      "source": [
        "The restaurant changes its menu, replacing two of the items with different foods. Add a line that rewrites the tuple, and then use a for loop to print each of the items on the revised menu."
      ]
    },
    {
      "cell_type": "code",
      "execution_count": 68,
      "id": "79b11cbc",
      "metadata": {
        "vscode": {
          "languageId": "python"
        },
        "id": "79b11cbc",
        "colab": {
          "base_uri": "https://localhost:8080/"
        },
        "outputId": "08cf2dcb-9541-4ab2-e006-9f6415478e81"
      },
      "outputs": [
        {
          "output_type": "stream",
          "name": "stdout",
          "text": [
            "fries\n",
            "burgers\n",
            "pasta\n",
            "hummus\n",
            "cake\n"
          ]
        }
      ],
      "source": [
        "foods = ('fries','burgers','pasta','hummus','cake')\n",
        "\n",
        "for food in foods:\n",
        "  print(food)"
      ]
    },
    {
      "cell_type": "markdown",
      "id": "337ac27d",
      "metadata": {
        "id": "337ac27d"
      },
      "source": [
        "## Question 15\n",
        "\n",
        "**Alien Colors:** Imagine an alien was just shot down in a game. Create a variable called `alien_color` and assign it a value of `green, yellow,` or `red`.\n",
        "\n",
        "-   Write an if statement to test whether the alien’s color is green. If it is, print a message that the player just earned 5 points.\n",
        "-   Write one version of this program that passes the if test and another that fails. (The version that fails will have no output.)"
      ]
    },
    {
      "cell_type": "code",
      "execution_count": 69,
      "id": "cc3198fa",
      "metadata": {
        "vscode": {
          "languageId": "python"
        },
        "id": "cc3198fa"
      },
      "outputs": [],
      "source": [
        "#alien_color = 'green'\n",
        "alien_color = 'red'\n",
        "\n",
        "if alien_color == 'green':\n",
        "  print(\"Congrats! Player just earned 5 points\")\n"
      ]
    },
    {
      "cell_type": "markdown",
      "id": "57465bab",
      "metadata": {
        "id": "57465bab"
      },
      "source": [
        "## Question 16\n",
        "\n",
        "**Stages of Life:** Write an `if-elif-else` chain that determines a person’s stage of life. Set a value for the variable `age`, and then:\n",
        "\n",
        "-   If the person is less than 2 years old, print a message that the person is a baby.\n",
        "-   If the person is at least 2 years old but less than 4, print a message that the person is a toddler.\n",
        "-   If the person is at least 4 years old but less than 13, print a message that the person is a kid.\n",
        "-   If the person is at least 13 years old but less than 20, print a message that the person is a teenager.\n",
        "-   If the person is at least 20 years old but less than 65, print a message that the person is an adult."
      ]
    },
    {
      "cell_type": "code",
      "execution_count": 72,
      "id": "b09c364a",
      "metadata": {
        "vscode": {
          "languageId": "python"
        },
        "id": "b09c364a",
        "colab": {
          "base_uri": "https://localhost:8080/"
        },
        "outputId": "a0a5eda3-49c7-4b07-f9a3-405a4962e6ba"
      },
      "outputs": [
        {
          "output_type": "stream",
          "name": "stdout",
          "text": [
            "This person is a toddler\n"
          ]
        }
      ],
      "source": [
        "age = 3\n",
        "\n",
        "if age <2:\n",
        "  print(\"This person is baby\")\n",
        "elif age <4: \n",
        "  print(\"This person is a toddler\")\n",
        "elif age <13:\n",
        "  print(\"This person is a kid\")\n",
        "elif age <20:\n",
        "  print(\"This person is a teenager\")\n",
        "elif age <65:\n",
        "  print(\"This person is an adult\")"
      ]
    },
    {
      "cell_type": "markdown",
      "id": "96b3da06",
      "metadata": {
        "id": "96b3da06"
      },
      "source": [
        "## Question 17\n",
        "\n",
        "**Favorite Fruit:** Make a list of your favorite fruits, and then write a series of independent `if` statements that check for certain fruits in your list.\n",
        "\n",
        "-   Make a list of your three favorite fruits and call it favorite_fruits.\n",
        "-   Write five if statements. Each should check whether a certain kind of fruit is in your list. If the fruit is in your list, the if block should print a statement, such as You really like bananas!"
      ]
    },
    {
      "cell_type": "code",
      "execution_count": 81,
      "id": "fc58635c",
      "metadata": {
        "vscode": {
          "languageId": "python"
        },
        "id": "fc58635c",
        "colab": {
          "base_uri": "https://localhost:8080/"
        },
        "outputId": "1b2614a9-426d-4e19-8217-8fd15e139f22"
      },
      "outputs": [
        {
          "output_type": "stream",
          "name": "stdout",
          "text": [
            "You really like bananas!\n",
            "You really like mangoes!\n"
          ]
        }
      ],
      "source": [
        "fruits = ['strawberry','mango','banana']\n",
        "\n",
        "if fruits.count('apple') > 0:\n",
        "  print(\"You really like apples!\")\n",
        "\n",
        "if fruits.count('banana') > 0:\n",
        "  print(\"You really like bananas!\")\n",
        "\n",
        "if fruits.count('mango') > 0:\n",
        "  print(\"You really like mangoes!\")\n",
        "\n",
        "if fruits.count('tomato') > 0:\n",
        "  print(\"You really like tomatoes!\")\n",
        "\n",
        "if fruits.count('kiwi') > 0:\n",
        "  print(\"You really like kiwis!\")"
      ]
    },
    {
      "cell_type": "markdown",
      "id": "71e4c6f1",
      "metadata": {
        "id": "71e4c6f1"
      },
      "source": [
        "## Question 18\n",
        "\n",
        "**Hello Admin:** Make a list of five or more usernames, including the name `admin`. Imagine you are writing code that will print a greeting to each user after they log in to a website. Loop through the list, and print a greeting to each user:\n",
        "\n",
        "-   If the username is 'admin', print a special greeting, such as _Hello admin, would you like to see a status report?_\n",
        "-   Otherwise, print a generic greeting, such as _Hello Jaden, thank you for logging in again_."
      ]
    },
    {
      "cell_type": "code",
      "execution_count": 82,
      "id": "651e8bf2",
      "metadata": {
        "vscode": {
          "languageId": "python"
        },
        "id": "651e8bf2",
        "colab": {
          "base_uri": "https://localhost:8080/"
        },
        "outputId": "229954fa-52c6-44c2-c020-b6e71cb98673"
      },
      "outputs": [
        {
          "output_type": "stream",
          "name": "stdout",
          "text": [
            "Hello Brittany, thank you for logging in again\n",
            "Hello Gianna, thank you for logging in again\n",
            "Hello Erica, thank you for logging in again\n",
            "Hello Samer, thank you for logging in again\n",
            "Hello admin, would you like to see a status report?\n"
          ]
        }
      ],
      "source": [
        "usernames = ['Brittany','Gianna','Erica','Samer', 'Admin']\n",
        "\n",
        "for x in usernames:\n",
        "  if x == \"Admin\":\n",
        "    print('Hello admin, would you like to see a status report?')\n",
        "  else:\n",
        "    print('Hello ' + x + ', thank you for logging in again')"
      ]
    },
    {
      "cell_type": "markdown",
      "id": "fd53a583",
      "metadata": {
        "id": "fd53a583"
      },
      "source": [
        "## Question 19\n",
        "\n",
        "**Checking Usernames:** Do the following to create a program that simulates how websites ensure that everyone has a unique username.\n",
        "\n",
        "-   Make a list of five or more usernames called `current_users`.\n",
        "-   Make another list of five usernames called `new_users`. Make sure one or two of the new usernames are also in the `current_users` list.\n",
        "-   Loop through the `new_users` list to see if each new username has already been used. If it has, print a message that the person will need to enter a new username. If a username has not been used, print a message saying that the username is available.\n",
        "-   Make sure your comparison is case insensitive. If 'John' has been used, 'JOHN' should not be accepted. (To do this, you’ll need to make a copy of `current_users` containing the lowercase versions of all existing users.)"
      ]
    },
    {
      "cell_type": "code",
      "execution_count": 87,
      "id": "9f1a4a8d",
      "metadata": {
        "vscode": {
          "languageId": "python"
        },
        "id": "9f1a4a8d",
        "colab": {
          "base_uri": "https://localhost:8080/"
        },
        "outputId": "d03fe776-a46f-417b-b328-74cdc8b30ebc"
      },
      "outputs": [
        {
          "output_type": "stream",
          "name": "stdout",
          "text": [
            "That username Patty is available\n",
            "That username Mark is available\n",
            "That username Nathan is available\n",
            "That username Brittany is not available\n",
            "That username samer is not available\n"
          ]
        }
      ],
      "source": [
        "current_users = ['Brittany','Gianna','Erica','Samer', 'Luke'] \n",
        "new_users = ['Patty', 'Mark', 'Nathan', 'Brittany', 'samer']\n",
        "\n",
        "copycurrent_users = [name.lower() for name in current_users]\n",
        "\n",
        "for name in new_users:\n",
        "  if current_users.count(name) >0 or copycurrent_users.count(name) >0:\n",
        "    print(\"That username \" + name + \" is not available\")\n",
        "  else:\n",
        "    print(\"That username \" + name + \" is available\")"
      ]
    },
    {
      "cell_type": "markdown",
      "id": "20f8412b",
      "metadata": {
        "id": "20f8412b"
      },
      "source": [
        "## Question 20\n",
        "\n",
        "**Ordinal Numbers:** Ordinal numbers indicate their position in a list, such as _1st_ or _2nd_. Most ordinal numbers end in _th_, except 1, 2, and 3.\n",
        "\n",
        "-   Store the numbers 1 through 9 in a list.\n",
        "-   Loop through the list.\n",
        "-   Use an `if-elif-else` chain inside the loop to print the proper ordinal ending for each number. Your output should read \"1st 2nd 3rd 4th 5th 6th 7th 8th 9th\", and each result should be on a separate line."
      ]
    },
    {
      "cell_type": "code",
      "execution_count": 89,
      "id": "6231e1e4",
      "metadata": {
        "vscode": {
          "languageId": "python"
        },
        "id": "6231e1e4",
        "colab": {
          "base_uri": "https://localhost:8080/"
        },
        "outputId": "5f21ede8-cbe7-40f9-fd3f-844e25c6c587"
      },
      "outputs": [
        {
          "output_type": "stream",
          "name": "stdout",
          "text": [
            "1st\n",
            "2nd\n",
            "3rd\n",
            "4th\n",
            "5th\n",
            "6th\n",
            "7th\n",
            "8th\n",
            "9th\n"
          ]
        }
      ],
      "source": [
        "num = range(1,10)\n",
        "\n",
        "for x in num:\n",
        "  if x == 1:\n",
        "    print('1st')\n",
        "  elif x == 2:\n",
        "    print('2nd')\n",
        "  elif x == 3:\n",
        "    print('3rd')\n",
        "  else:\n",
        "    print(str(x)+'th')"
      ]
    }
  ],
  "metadata": {
    "kernelspec": {
      "display_name": "Python 3",
      "language": "python",
      "name": "python3"
    },
    "colab": {
      "provenance": [],
      "include_colab_link": true
    }
  },
  "nbformat": 4,
  "nbformat_minor": 5
}