{
  "cells": [
    {
      "cell_type": "markdown",
      "metadata": {
        "id": "view-in-github",
        "colab_type": "text"
      },
      "source": [
        "<a href=\"https://colab.research.google.com/github/olilamm/GEOG-510/blob/main/Lab5.ipynb\" target=\"_parent\"><img src=\"https://colab.research.google.com/assets/colab-badge.svg\" alt=\"Open In Colab\"/></a>"
      ]
    },
    {
      "cell_type": "code",
      "execution_count": null,
      "id": "8de60915",
      "metadata": {
        "id": "8de60915"
      },
      "outputs": [],
      "source": [
        "from datetime import datetime\n",
        "\n",
        "now = datetime.now()\n",
        "print(f\"Submitted time: {now}\")"
      ]
    },
    {
      "cell_type": "markdown",
      "id": "a526d1ff",
      "metadata": {
        "id": "a526d1ff"
      },
      "source": [
        "## Question 1\n",
        "\n",
        "**Person:** Use a dictionary to store information about a person you know. Store their first name, last name, age, and the city in which they live. You should have keys such as first_name, last_name, age, and city. Print each piece of information stored in your dictionary."
      ]
    },
    {
      "cell_type": "code",
      "execution_count": null,
      "id": "060bd962",
      "metadata": {
        "id": "060bd962",
        "colab": {
          "base_uri": "https://localhost:8080/"
        },
        "outputId": "faadb8fa-ec74-4aab-c3c2-dff64fe79718"
      },
      "outputs": [
        {
          "output_type": "stream",
          "name": "stdout",
          "text": [
            "Luke\n",
            "Lawley\n",
            "22\n",
            "Knoxville\n"
          ]
        }
      ],
      "source": [
        "person = {\"first_name\": \"Luke\", \"last_name\": \"Lawley\", \"age\": \"22\", \"city\": \"Knoxville\"}\n",
        "\n",
        "print(person[\"first_name\"])\n",
        "print(person[\"last_name\"])\n",
        "print(person[\"age\"])\n",
        "print(person[\"city\"])\n"
      ]
    },
    {
      "cell_type": "markdown",
      "id": "32bb120e",
      "metadata": {
        "id": "32bb120e"
      },
      "source": [
        "## Question 2\n",
        "\n",
        "**Favorite Numbers:** Use a dictionary to store people’s favorite numbers. Think of five names, and use them as keys in your dictionary. Think of a favorite number for each person, and store each as a value in your dictionary. Print each person’s name and their favorite number. For even more fun, poll a few friends and get some actual data for your program."
      ]
    },
    {
      "cell_type": "code",
      "execution_count": null,
      "id": "37115a33",
      "metadata": {
        "id": "37115a33",
        "colab": {
          "base_uri": "https://localhost:8080/"
        },
        "outputId": "59e68705-b545-4cf5-be0f-19ba7e893f92"
      },
      "outputs": [
        {
          "output_type": "stream",
          "name": "stdout",
          "text": [
            "\n",
            " Luke 5\n",
            "\n",
            " Gianna 3\n",
            "\n",
            " Patty 11\n",
            "\n",
            " Mark 16\n",
            "\n",
            " Erica 7\n"
          ]
        }
      ],
      "source": [
        "favorite_num = {\"Luke\": \"5\", \"Gianna\": \"3\", \"Patty\": \"11\", \"Mark\": \"16\", \"Erica\": \"7\"}\n",
        "\n",
        "for key, value in favorite_num.items():\n",
        "  print(f\"\\n {key}\" + f\" {value}\")"
      ]
    },
    {
      "cell_type": "markdown",
      "id": "eb31ca53",
      "metadata": {
        "id": "eb31ca53"
      },
      "source": [
        "## Question 3\n",
        "\n",
        "**Glossary:** A Python dictionary can be used to model an actual dictionary. However, to avoid confusion, let’s call it a glossary.\n",
        "\n",
        "- Think of five programming words you’ve learned about in the previous chapters. Use these words as the keys in your glossary, and store their meanings as values.\n",
        "- Print each word and its meaning as neatly formatted output. You might print the word followed by a colon and then its meaning, or print the word on one line and then print its meaning indented on a second line. Use the newline character (\\n) to insert a blank line between each word-meaning pair in your output."
      ]
    },
    {
      "cell_type": "code",
      "execution_count": null,
      "id": "7bdd7f86",
      "metadata": {
        "id": "7bdd7f86",
        "colab": {
          "base_uri": "https://localhost:8080/"
        },
        "outputId": "866c6b1e-c010-4f23-9374-da5e79aabd73"
      },
      "outputs": [
        {
          "output_type": "stream",
          "name": "stdout",
          "text": [
            "\n",
            "Word: variables\n",
            "Meaning: a value associated with that variable\n",
            "\n",
            "Word: functions\n",
            "Meaning: named blocks of code that are designed to do one specific job\n",
            "\n",
            "Word: while\n",
            "Meaning: a kind of loop\n",
            "\n",
            "Word: loops\n",
            "Meaning: a sequence of instruction s that is continually repeated until a certain condition is reached\n",
            "\n",
            "Word: statements\n",
            "Meaning: a line of code commanding a task\n"
          ]
        }
      ],
      "source": [
        "glossary = {\"variables\":\"a value associated with that variable\", \"functions\":\"named blocks of code that are designed to do one specific job\", \"while\":\"a kind of loop\", \"loops\":\"a sequence of instruction s that is continually repeated until a certain condition is reached\", \"statements\":\"a line of code commanding a task\"}\n",
        "\n",
        "for key, value in glossary.items():\n",
        "  print(f\"\\nWord: {key}\")\n",
        "  print(f\"Meaning: {value}\")"
      ]
    },
    {
      "cell_type": "markdown",
      "id": "9bdb2d85",
      "metadata": {
        "id": "9bdb2d85"
      },
      "source": [
        "## Question 4\n",
        "\n",
        "**Glossary 2:** Now that you know how to loop through a dictionary, clean up the code from Question 3 by replacing your series of print() calls with a loop that runs through the dictionary’s keys and values. When you’re sure that your loop works, add five more Python terms to your glossary. When you run your program again, these new words and meanings should automatically be included in the output."
      ]
    },
    {
      "cell_type": "code",
      "execution_count": null,
      "id": "018d37ff",
      "metadata": {
        "id": "018d37ff",
        "colab": {
          "base_uri": "https://localhost:8080/"
        },
        "outputId": "1eb35779-6abd-43ed-d37c-fd8cadb6953b"
      },
      "outputs": [
        {
          "output_type": "stream",
          "name": "stdout",
          "text": [
            "Variables : A Value Associated With That Variable\n",
            "Functions : Named Blocks Of Code That Are Designed To Do One Specific Job\n",
            "While : A Kind Of Loop\n",
            "Loops : A Sequence Of Instruction S That Is Continually Repeated Until A Certain Condition Is Reached\n",
            "Statements : A Line Of Code Commanding A Task\n",
            "Algorithm : A Set Of  Instructions That Are Followed To Solve A Problem. It'S A Computer'S Thought Process\n",
            "Input : Any Interaction From The User To The Program\n",
            "Library : A Collection Of Code Made By Other Programmers For You To Import And Use\n",
            "Terminal : A Text-Based Interface For Sending Commands To A Computer\n",
            "Visual Studio : A Program In C++\n"
          ]
        }
      ],
      "source": [
        "glossary = {\"variables\":\"a value associated with that variable\", \"functions\":\"named blocks of code that are designed to do one specific job\", \"while\":\"a kind of loop\", \"loops\":\"a sequence of instruction s that is continually repeated until a certain condition is reached\", \"statements\":\"a line of code commanding a task\", \"algorithm\": \"a set of  instructions that are followed to solve a problem. It's a computer's thought process\", \"input\":\"any interaction from the user to the program\", \"library\":\"a collection of code made by other programmers for you to import and use\", \"terminal\":\"a text-based interface for sending commands to a computer\", \"visual studio\":\"a program in C++\"}\n",
        "\n",
        "for key, value in glossary.items():\n",
        "  print(key.title()+\" : \"+value.title())"
      ]
    },
    {
      "cell_type": "markdown",
      "id": "375356d5",
      "metadata": {
        "id": "375356d5"
      },
      "source": [
        "## Question 5\n",
        "\n",
        "**Rivers:** Make a dictionary containing three major rivers and the country each river runs through. One key-value pair might be 'nile': 'egypt'.\n",
        "\n",
        "- Use a loop to print a sentence about each river, such as _The Nile runs through Egypt._\n",
        "- Use a loop to print the name of each river included in the dictionary.\n",
        "- Use a loop to print the name of each country included in the dictionary."
      ]
    },
    {
      "cell_type": "code",
      "execution_count": null,
      "id": "2fd7b758",
      "metadata": {
        "id": "2fd7b758",
        "colab": {
          "base_uri": "https://localhost:8080/"
        },
        "outputId": "a7d96dc0-da5a-464f-cf24-a35804a3ffdf"
      },
      "outputs": [
        {
          "output_type": "stream",
          "name": "stdout",
          "text": [
            "A sentence about each river: \n",
            "\tYangtze is a river in China\n",
            "\tAmazon is a river in Brazil\n",
            "\tMississippi is a river in United States\n",
            "The rivers in the dictionary are: \n",
            "\tYangtze\n",
            "\tAmazon\n",
            "\tMississippi\n",
            "The countries that these rivers could be in are: \n",
            "\tChina\n",
            "\tBrazil\n",
            "\tUnited States\n"
          ]
        }
      ],
      "source": [
        "rivers = {\"yangtze\":\"china\", \"amazon\":\"brazil\", \"mississippi\": \"united states\"}\n",
        "\n",
        "print(\"A sentence about each river: \")\n",
        "for key, value in rivers.items():\n",
        "  print(f\"\\t{key.title()} is a river in {value.title()}\")\n",
        "\n",
        "print(\"The rivers in the dictionary are: \")\n",
        "for key, value in rivers.items():\n",
        "  print(f\"\\t{key.title()}\")\n",
        "\n",
        "print(\"The countries that these rivers could be in are: \")\n",
        "for key, value in rivers.items():\n",
        "  print(f\"\\t{value.title()}\")"
      ]
    },
    {
      "cell_type": "markdown",
      "id": "8b0b500d",
      "metadata": {
        "id": "8b0b500d"
      },
      "source": [
        "## Question 6\n",
        "\n",
        "**Cities:** Make a dictionary called `cities`. Use the names of three cities as keys in your dictionary. Create a dictionary of information about each city and include the country that the city is in, its approximate population, and one fact about that city. The keys for each city’s dictionary should be something like `country`, `population`, and `fact`. Print the name of each city and all of the information you have stored about it."
      ]
    },
    {
      "cell_type": "code",
      "execution_count": null,
      "id": "28a77010",
      "metadata": {
        "id": "28a77010",
        "colab": {
          "base_uri": "https://localhost:8080/"
        },
        "outputId": "78b1e0de-f51f-4bf7-c83d-07568d4c4ac4"
      },
      "outputs": [
        {
          "output_type": "stream",
          "name": "stdout",
          "text": [
            "\n",
            "City: Moscow\n",
            "\tCountry: Russia\n",
            "\tPopulation: 11.98 Million\n",
            "\tFact: Moscow'S Kremlin Is The Only Medival Fortress Still In Use Today\n",
            "\n",
            "City: Chicago\n",
            "\tCountry: United States\n",
            "\tPopulation: 2.7 Million\n",
            "\tFact: Chicago Had The First Skyscraper In The World At 42 Meters Tall, With 10 Floors\n",
            "\n",
            "City: Helsinki\n",
            "\tCountry: Finland\n",
            "\tPopulation: 1.3 Million\n",
            "\tFact: Helsinki'S Sidewalks Get Heated From Underground\n"
          ]
        }
      ],
      "source": [
        "cities = {\n",
        "    \"Moscow\" : {\n",
        "        \"country\": \"Russia\",\n",
        "        \"population\":\"11.98 million\", \n",
        "        \"fact\":\"moscow's Kremlin is the only medival fortress still in use today\"\n",
        "    },\n",
        "    \"Chicago\" : {\n",
        "        \"country\": \"United States\",\n",
        "        \"population\":\"2.7 million\", \n",
        "        \"fact\":\"chicago had the first skyscraper in the world at 42 meters tall, with 10 floors\"\n",
        "    },\n",
        "    \"Helsinki\" : {\n",
        "        \"country\": \"Finland\",\n",
        "        \"population\":\"1.3 million\",\n",
        "        \"fact\":\"helsinki's sidewalks get heated from underground\"\n",
        "        \n",
        "    }\n",
        "\n",
        "}\n",
        "\n",
        "for city, city_info in cities.items():\n",
        "  print(f\"\\nCity: {city}\")\n",
        "  country = city_info[\"country\"]\n",
        "  population = city_info[\"population\"]\n",
        "  fact = city_info[\"fact\"]\n",
        "\n",
        "  print(f\"\\tCountry: {country.title()}\")\n",
        "  print(f\"\\tPopulation: {population.title()}\")\n",
        "  print(f\"\\tFact: {fact.title()}\")\n",
        "\n",
        "\n",
        "#Moscow = {\"country\": \"Russia\", \"population\":\"11.98 million\", \"fact\":\"moscow's Kremlin is the only medival fortress still in use today\"}\n",
        "#Chicago = {\"country\": \"United States\", \"population\":\"2.7 million\", \"fact\":\"chicago had the first skyscraper in the world at 42 meters tall, with 10 floors\"}\n",
        "#Helsinki = {\"country\": \"Finland\", \"population\":\"1.3 million\", \"fact\":\"helsinki's sidewalks get heated from underground\"}\n"
      ]
    },
    {
      "cell_type": "markdown",
      "id": "874541d3",
      "metadata": {
        "id": "874541d3"
      },
      "source": [
        "## Question 7\n",
        "\n",
        "**Rental Car:** Write a program that asks the user what kind of rental car they would like. Print a message about that car, such as “Let me see if I can find you a Subaru.”"
      ]
    },
    {
      "cell_type": "code",
      "execution_count": null,
      "id": "5283628b",
      "metadata": {
        "id": "5283628b",
        "colab": {
          "base_uri": "https://localhost:8080/"
        },
        "outputId": "11fbcdbb-6f78-4660-a211-14d6842d5a44"
      },
      "outputs": [
        {
          "output_type": "stream",
          "name": "stdout",
          "text": [
            "What kind of rental car would you like? Honda\n",
            "Let me see if I can find you a Honda\n"
          ]
        }
      ],
      "source": [
        "car = input(\"What kind of rental car would you like? \")\n",
        "print(\"Let me see if I can find you a \" + car)"
      ]
    },
    {
      "cell_type": "markdown",
      "id": "e03a200a",
      "metadata": {
        "id": "e03a200a"
      },
      "source": [
        "## Question 8\n",
        "\n",
        "**Restaurant Seating:** Write a program that asks the user how many people are in their dinner group. If the answer is more than eight, print a message saying they’ll have to wait for a table. Otherwise, report that their table is ready."
      ]
    },
    {
      "cell_type": "code",
      "execution_count": null,
      "id": "96167a0f",
      "metadata": {
        "id": "96167a0f",
        "colab": {
          "base_uri": "https://localhost:8080/"
        },
        "outputId": "acc3a0cd-fdf8-4cf5-b737-7e5ef2b802f7"
      },
      "outputs": [
        {
          "output_type": "stream",
          "name": "stdout",
          "text": [
            "How many people are in your dinner group? 9\n",
            "Sorry, you will have to wait for a table.\n"
          ]
        }
      ],
      "source": [
        "table = int(input(\"How many people are in your dinner group? \"))\n",
        "\n",
        "if table >8:\n",
        "  print(\"Sorry, you will have to wait for a table.\")\n",
        "else:\n",
        "  print(\"Your table is ready!\")"
      ]
    },
    {
      "cell_type": "markdown",
      "id": "a523d8a7",
      "metadata": {
        "id": "a523d8a7"
      },
      "source": [
        "## Question 9\n",
        "\n",
        "**Multiples of Ten:** Ask the user for a number, and then report whether the number is a multiple of 10 or not."
      ]
    },
    {
      "cell_type": "code",
      "execution_count": null,
      "id": "77c9702e",
      "metadata": {
        "id": "77c9702e",
        "colab": {
          "base_uri": "https://localhost:8080/"
        },
        "outputId": "8ee47caf-75bc-4979-8943-2767723b3e5b"
      },
      "outputs": [
        {
          "output_type": "stream",
          "name": "stdout",
          "text": [
            "Enter a number: 23\n",
            "This number is not a multiple of 10.\n"
          ]
        }
      ],
      "source": [
        "number = int(input(\"Enter a number: \"))\n",
        "\n",
        "if number == 0:\n",
        "  print(\"This number is not a multiple of 10.\")\n",
        "elif number%10 == 0:\n",
        "  print(\"This number is a multiple of 10!\")\n",
        "else:\n",
        "  print(\"This number is not a multiple of 10.\")"
      ]
    },
    {
      "cell_type": "markdown",
      "id": "de550983",
      "metadata": {
        "id": "de550983"
      },
      "source": [
        "## Question 10\n",
        "\n",
        "**Pizza Toppings:** Write a loop that prompts the user to enter a series of pizza toppings until they enter a 'quit' value. As they enter each topping, print a message saying you’ll add that topping to their pizza."
      ]
    },
    {
      "cell_type": "code",
      "execution_count": null,
      "id": "11f4d8e4",
      "metadata": {
        "id": "11f4d8e4",
        "colab": {
          "base_uri": "https://localhost:8080/"
        },
        "outputId": "4a72831c-5061-48c9-c2aa-4298ad9c9954"
      },
      "outputs": [
        {
          "name": "stdout",
          "output_type": "stream",
          "text": [
            "What pizza topping would you like? Enter 'quit' when done. cheese\n",
            "I will add cheese to your pizza!\n",
            "What pizza topping would you like? Enter 'quit' when done. pepperoni\n",
            "I will add pepperoni to your pizza!\n",
            "What pizza topping would you like? Enter 'quit' when done. quit\n"
          ]
        }
      ],
      "source": [
        "while True:\n",
        "  topping = input(\"What pizza topping would you like? Enter 'quit' when done. \")\n",
        "  if topping == \"quit\":\n",
        "    break\n",
        "  else:\n",
        "    print(\"I will add \" + topping + \" to your pizza!\")\n",
        "    \n"
      ]
    },
    {
      "cell_type": "markdown",
      "id": "ccfe4831",
      "metadata": {
        "id": "ccfe4831"
      },
      "source": [
        "## Question 11\n",
        "\n",
        "**Message:** Write a function called `display_message()` that prints one sentence telling everyone what you are learning about in this chapter. Call the function, and make sure the message displays correctly."
      ]
    },
    {
      "cell_type": "code",
      "execution_count": null,
      "id": "7080b52a",
      "metadata": {
        "id": "7080b52a",
        "colab": {
          "base_uri": "https://localhost:8080/"
        },
        "outputId": "270b7a1f-a03d-4abd-c5a3-9f8d7bce3e7c"
      },
      "outputs": [
        {
          "output_type": "stream",
          "name": "stdout",
          "text": [
            "I'm learning Python basics.\n"
          ]
        }
      ],
      "source": [
        "def display_message():\n",
        "  print(\"I'm learning Python basics.\")\n",
        "\n",
        "display_message()"
      ]
    },
    {
      "cell_type": "markdown",
      "id": "2b5e23db",
      "metadata": {
        "id": "2b5e23db"
      },
      "source": [
        "## Question 12\n",
        "\n",
        "**Favorite Book:** Write a function called `favorite_book()` that accepts one parameter, title. The function should print a message, such as `One of my favorite books is Alice in Wonderland`. Call the function, making sure to include a book title as an argument in the function call."
      ]
    },
    {
      "cell_type": "code",
      "execution_count": null,
      "id": "b33bd108",
      "metadata": {
        "id": "b33bd108",
        "colab": {
          "base_uri": "https://localhost:8080/"
        },
        "outputId": "58cc0643-02a3-414e-babb-fb2a1247fe2a"
      },
      "outputs": [
        {
          "output_type": "stream",
          "name": "stdout",
          "text": [
            "One of my favorite books is Tuesdays with Morrie\n"
          ]
        }
      ],
      "source": [
        "def favorite_book(title):\n",
        "  print(\"One of my favorite books is \" + title)\n",
        "\n",
        "favorite_book(\"Tuesdays with Morrie\")"
      ]
    },
    {
      "cell_type": "markdown",
      "id": "4904419f",
      "metadata": {
        "id": "4904419f"
      },
      "source": [
        "## Question 13\n",
        "\n",
        "**T-Shirt:** Write a function called `make_shirt()` that accepts a size and the text of a message that should be printed on the shirt. The function should print a sentence summarizing the size of the shirt and the message printed on it.\n",
        "\n",
        "Call the function once using positional arguments to make a shirt. Call the function a second time using keyword arguments."
      ]
    },
    {
      "cell_type": "code",
      "execution_count": null,
      "id": "53d690ca",
      "metadata": {
        "id": "53d690ca",
        "colab": {
          "base_uri": "https://localhost:8080/"
        },
        "outputId": "2742d453-c65c-4421-b6c9-62b89c375988"
      },
      "outputs": [
        {
          "output_type": "stream",
          "name": "stdout",
          "text": [
            "The size of shirt is small and the message on the shirt is Rocky Top\n",
            "The size of shirt is medium and the message on the shirt is Beat Bama\n"
          ]
        }
      ],
      "source": [
        "def make_shirt(size, message):\n",
        "  print(\"The size of shirt is \" + size + \" and the message on the shirt is \" + message)\n",
        "\n",
        "make_shirt(\"small\", \"Rocky Top\")\n",
        "make_shirt(message= \"Beat Bama\", size= \"medium\")"
      ]
    },
    {
      "cell_type": "markdown",
      "id": "c6a6dc4b",
      "metadata": {
        "id": "c6a6dc4b"
      },
      "source": [
        "## Question 14\n",
        "\n",
        "**Large Shirts:** Modify the `make_shirt()` function so that shirts are large by default with a message that reads _I love Python_. Make a large shirt and a medium shirt with the default message, and a shirt of any size with a different message."
      ]
    },
    {
      "cell_type": "code",
      "execution_count": null,
      "id": "658f7e3f",
      "metadata": {
        "id": "658f7e3f",
        "colab": {
          "base_uri": "https://localhost:8080/"
        },
        "outputId": "626c901a-7ef5-4415-f35b-e5de6a167cad"
      },
      "outputs": [
        {
          "output_type": "stream",
          "name": "stdout",
          "text": [
            "The size of shirt is large and the message on the shirt is I love Python\n",
            "The size of shirt is medium and the message on the shirt is I love Python\n",
            "The size of shirt is small and the message on the shirt is Go Vols\n"
          ]
        }
      ],
      "source": [
        "def make_shirt(size = \"large\", message = \"I love Python\"):\n",
        "  print(\"The size of shirt is \" + size + \" and the message on the shirt is \" + message)\n",
        "\n",
        "make_shirt()\n",
        "make_shirt(size=\"medium\")\n",
        "make_shirt(size=\"small\", message=\"Go Vols\")"
      ]
    },
    {
      "cell_type": "markdown",
      "id": "64fd6e85",
      "metadata": {
        "id": "64fd6e85"
      },
      "source": [
        "## Question 15\n",
        "\n",
        "**Cities:** Write a function called `describe_city()` that accepts the name of a city and its country. The function should print a simple sentence, such as `Reykjavik is in Iceland`. Give the parameter for the country a default value. Call your function for three different cities, at least one of which is not in the default country."
      ]
    },
    {
      "cell_type": "code",
      "execution_count": null,
      "id": "bc493373",
      "metadata": {
        "id": "bc493373",
        "colab": {
          "base_uri": "https://localhost:8080/"
        },
        "outputId": "694c55c2-47ce-4c3a-8e41-d47b169718aa"
      },
      "outputs": [
        {
          "output_type": "stream",
          "name": "stdout",
          "text": [
            "Miami is in United States\n",
            "London is in England\n",
            "New York is in United States\n"
          ]
        }
      ],
      "source": [
        "def describe_city(city, country= \"United States\"):\n",
        "  print(city + \" is in \" + country)\n",
        "\n",
        "describe_city(city=\"Miami\")\n",
        "describe_city(city=\"London\", country=\"England\")\n",
        "describe_city(city=\"New York\")"
      ]
    },
    {
      "cell_type": "markdown",
      "id": "259cdcdc",
      "metadata": {
        "id": "259cdcdc"
      },
      "source": [
        "## Question 16\n",
        "\n",
        "**City Names:** Write a function called `city_country()` that takes in the name of a city and its country. The function should return a string formatted like this:\n",
        "\n",
        "```text\n",
        "Santiago, Chile\n",
        "```\n",
        "\n",
        "Call your function with at least three city-country pairs, and print the values that are returned."
      ]
    },
    {
      "cell_type": "code",
      "execution_count": null,
      "id": "f1b5b16e",
      "metadata": {
        "id": "f1b5b16e",
        "colab": {
          "base_uri": "https://localhost:8080/"
        },
        "outputId": "979deeda-a652-4654-8f9c-bb68e3981ad4"
      },
      "outputs": [
        {
          "output_type": "stream",
          "name": "stdout",
          "text": [
            "London, England\n",
            "Rio, Brazil\n",
            "Berlin, Germany\n"
          ]
        }
      ],
      "source": [
        "def city_country(city, country):\n",
        "  return city+', ' + country\n",
        "\n",
        "print(city_country(\"London\", \"England\"))\n",
        "print(city_country(\"Rio\", \"Brazil\"))\n",
        "print(city_country(\"Berlin\", \"Germany\"))"
      ]
    },
    {
      "cell_type": "markdown",
      "id": "491f64a4",
      "metadata": {
        "id": "491f64a4"
      },
      "source": [
        "## Question 17\n",
        "\n",
        "**Album:** Write a function called `make_album()` that builds a dictionary describing a music album. The function should take in an artist name and an album title, and it should return a dictionary containing these two pieces of information. Use the function to make three dictionaries representing different albums. Print each return value to show that the dictionaries are storing the album information correctly.\n",
        "\n",
        "Use None to add an optional parameter to make_album() that allows you to store the number of songs on an album. If the calling line includes a value for the number of songs, add that value to the album’s dictionary. Make at least one new function call that includes the number of songs on an album."
      ]
    },
    {
      "cell_type": "code",
      "source": [
        "def make_album(name, title):\n",
        "  album = {\"name\": name, \"title\": title}\n",
        "  return album\n",
        "\n",
        "album1 = make_album(\"Taylor Swift\", \"Midnights\")\n",
        "album2 = make_album(\"Michael Jackson\", \"Thriller\")\n",
        "album3 = make_album(\"ABBA\", \"Voyage\")\n",
        "\n",
        "print(album1[\"name\"] + \": \" +album1[\"title\"])\n",
        "print(album2[\"name\"] + \": \" +album2[\"title\"])\n",
        "print(album3[\"name\"] + \": \" +album3[\"title\"])"
      ],
      "metadata": {
        "id": "LXD7IeWDn7fX",
        "colab": {
          "base_uri": "https://localhost:8080/"
        },
        "outputId": "41dacdde-0153-48ff-b8d4-d3aac5f97d98"
      },
      "id": "LXD7IeWDn7fX",
      "execution_count": null,
      "outputs": [
        {
          "output_type": "stream",
          "name": "stdout",
          "text": [
            "Taylor Swift: Midnights\n",
            "Michael Jackson: Thriller\n",
            "ABBA: Voyage\n"
          ]
        }
      ]
    },
    {
      "cell_type": "markdown",
      "id": "42f6a72f",
      "metadata": {
        "id": "42f6a72f"
      },
      "source": [
        "## Question 18\n",
        "\n",
        "**User Albums:** Start with your program from Question 17. Write a `while` loop that allows users to enter an album’s artist and title. Once you have that information, call `make_album()` with the user’s input and print the dictionary that’s created. Be sure to include a quit value in the `while` loop."
      ]
    },
    {
      "cell_type": "code",
      "source": [
        "def make_album(name, title):\n",
        "  album = {\"name\": name, \"title\": title}\n",
        "  return album\n",
        "\n",
        "print(\"Enter artist name followed by album name or enter 'quit'\")\n",
        "while True:\n",
        "  artist = input(\"Artist: \")\n",
        "  if artist == \"quit\":\n",
        "    break\n",
        "  title = input(\"Title: \")\n",
        "  if title == \"quit\":\n",
        "    break\n",
        "  album = make_album(artist, title)\n",
        "  print(album[\"name\"] + \": \" +album[\"title\"])\n"
      ],
      "metadata": {
        "colab": {
          "base_uri": "https://localhost:8080/"
        },
        "id": "4Ht1GFAAwhDg",
        "outputId": "affa760b-14e1-48a8-ed9f-8adf28bacab7"
      },
      "id": "4Ht1GFAAwhDg",
      "execution_count": null,
      "outputs": [
        {
          "name": "stdout",
          "output_type": "stream",
          "text": [
            "Enter artist name followed by album name or enter 'quit'\n",
            "Artist: Harry Styles\n",
            "Title: Harry's House\n",
            "Harry Styles: Harry's House\n",
            "Artist: quit\n"
          ]
        }
      ]
    },
    {
      "cell_type": "markdown",
      "id": "97bab8c2",
      "metadata": {
        "id": "97bab8c2"
      },
      "source": [
        "## Question 19\n",
        "\n",
        "**Messages:** Make a list containing a series of short text messages. Pass the list to a function called `show_messages()`, which prints each text message."
      ]
    },
    {
      "cell_type": "code",
      "execution_count": null,
      "id": "f8f3ee4e",
      "metadata": {
        "id": "f8f3ee4e",
        "colab": {
          "base_uri": "https://localhost:8080/"
        },
        "outputId": "f8fb9101-684e-4322-c61a-1169f0ba757e"
      },
      "outputs": [
        {
          "output_type": "stream",
          "name": "stdout",
          "text": [
            "Hey bestie\n",
            "I love you\n",
            "Please answer your phone\n",
            "Dinner is ready\n"
          ]
        }
      ],
      "source": [
        "texts = [\"Hey bestie\", \"I love you\", \"Please answer your phone\", \"Dinner is ready\"]\n",
        "\n",
        "def show_messages(text):\n",
        "  for x in text:\n",
        "    print(x)\n",
        "\n",
        "show_messages(texts)"
      ]
    },
    {
      "cell_type": "markdown",
      "id": "a8bcea3c",
      "metadata": {
        "id": "a8bcea3c"
      },
      "source": [
        "## Question 20\n",
        "\n",
        "**Sending Messages:** Start with a copy of your program from Question 19. Write a function called `send_messages()` that prints each text message and moves each message to a new list called `sent_messages` as it’s printed. After calling the function, print both of your lists to make sure the messages were moved correctly."
      ]
    },
    {
      "cell_type": "code",
      "execution_count": null,
      "id": "c5340719",
      "metadata": {
        "id": "c5340719",
        "colab": {
          "base_uri": "https://localhost:8080/"
        },
        "outputId": "ca276e0b-9be3-4d0d-9e4a-274efb1158a4"
      },
      "outputs": [
        {
          "output_type": "stream",
          "name": "stdout",
          "text": [
            "Hey bestie\n",
            "I love you\n",
            "Please answer your phone\n",
            "Dinner is ready\n",
            "['Hey bestie', 'I love you', 'Please answer your phone', 'Dinner is ready']\n",
            "['Hey bestie', 'I love you', 'Please answer your phone', 'Dinner is ready']\n"
          ]
        }
      ],
      "source": [
        "texts = [\"Hey bestie\", \"I love you\", \"Please answer your phone\", \"Dinner is ready\"]\n",
        "sent_messages = []\n",
        "\n",
        "def send_messages(text):\n",
        "  for x in text:\n",
        "    print(x)\n",
        "    sent_messages.append(x)\n",
        "\n",
        "send_messages(texts)\n",
        "print(texts)\n",
        "print(sent_messages)"
      ]
    },
    {
      "cell_type": "markdown",
      "id": "c98f1dd0",
      "metadata": {
        "id": "c98f1dd0"
      },
      "source": [
        "## Question 21\n",
        "\n",
        "**Learning Python:** Open a blank file in your text editor and write a few lines summarizing what you’ve learned about Python so far. Start each line with the phrase _In Python you can. . .._ Save the file as _learning_python.txt_ in the same directory as your exercises from this chapter. Write a program that reads the file and prints what you wrote three times. Print the contents once by reading in the entire file, once by looping over the file object, and once by storing the lines in a list and then working with them outside the _with_ block."
      ]
    },
    {
      "cell_type": "code",
      "execution_count": null,
      "id": "cb5da040",
      "metadata": {
        "id": "cb5da040",
        "colab": {
          "base_uri": "https://localhost:8080/"
        },
        "outputId": "d823c2f4-6b5e-4bc3-ec96-c91e031e759f"
      },
      "outputs": [
        {
          "output_type": "stream",
          "name": "stdout",
          "text": [
            "In Python you can write programs to automate data anaylsis. \n",
            "In Python you can build websites and software. \n",
            "In Python you can build dictionaries.\n",
            "\n",
            "\n",
            "1 In Python you can write programs to automate data anaylsis. \n",
            "\n",
            "2 In Python you can build websites and software. \n",
            "\n",
            "3 In Python you can build dictionaries. \n",
            "\n",
            "\n",
            "In Python you can write programs to automate data anaylsis. \n",
            "\n",
            "In Python you can build websites and software. \n",
            "\n",
            "In Python you can build dictionaries. \n"
          ]
        }
      ],
      "source": [
        "with open('learning_python.txt') as file_object:\n",
        "  contents = file_object.read()\n",
        "  print(contents.rstrip())\n",
        "\n",
        "print(\"\\n\")\n",
        "\n",
        "with open('learning_python.txt') as file_object:\n",
        "     n = 1\n",
        "     for line in file_object:\n",
        "         print(n, line)\n",
        "         n += 1\n",
        "\n",
        "print(\"\\n\")\n",
        "\n",
        "lines = []\n",
        "with open('learning_python.txt') as file_object:\n",
        "  lines = file_object.readlines()\n",
        "\n",
        "for line in lines:\n",
        "  print(line)"
      ]
    },
    {
      "cell_type": "markdown",
      "id": "4a1a04ad",
      "metadata": {
        "id": "4a1a04ad"
      },
      "source": [
        "## Question 22\n",
        "\n",
        "**Learning C:** You can use the replace() method to replace any word in a string with a different word. Here’s a quick example showing how to replace 'dog' with 'cat' in a sentence:\n",
        "\n",
        "```text\n",
        "message = \"I really like dogs.\"\n",
        "message.replace('dog', 'cat')\n",
        "'I really like cats.'\n",
        "```\n",
        "\n",
        "Read in each line from the file you just created, _learning_python.txt_, and replace the word _Python_ with the name of another language, such as _C_. Print each modified line to the screen."
      ]
    },
    {
      "cell_type": "code",
      "execution_count": 76,
      "id": "b11b8018",
      "metadata": {
        "id": "b11b8018",
        "colab": {
          "base_uri": "https://localhost:8080/"
        },
        "outputId": "9e1c8d14-b2c6-464d-acc6-86532d7c7600"
      },
      "outputs": [
        {
          "output_type": "stream",
          "name": "stdout",
          "text": [
            "In C++ you can write programs to automate data anaylsis. \n",
            "\n",
            "In C++ you can build websites and software. \n",
            "\n",
            "In C++ you can build dictionaries. \n"
          ]
        }
      ],
      "source": [
        "lines = []\n",
        "with open('learning_python.txt') as file_object:\n",
        "  lines = file_object.readlines()\n",
        "\n",
        "for line in lines:\n",
        "  line = line.replace('Python', 'C++')\n",
        "  print(line)"
      ]
    },
    {
      "cell_type": "markdown",
      "id": "0921244a",
      "metadata": {
        "id": "0921244a"
      },
      "source": [
        "## Question 23\n",
        "\n",
        "**Guest:** Write a program that prompts the user for their name. When they respond, write their name to a file called guest.txt."
      ]
    },
    {
      "cell_type": "code",
      "execution_count": 77,
      "id": "340d8f4b",
      "metadata": {
        "id": "340d8f4b",
        "colab": {
          "base_uri": "https://localhost:8080/"
        },
        "outputId": "686052cc-96e3-4b8a-84f6-afed35bae556"
      },
      "outputs": [
        {
          "output_type": "stream",
          "name": "stdout",
          "text": [
            "Please enter your name: Olivia\n",
            "\n"
          ]
        }
      ],
      "source": [
        "name = input(\"Please enter your name: \")\n",
        "\n",
        "with open(\"guest.txt\", \"w\") as file_guest:\n",
        "  file_guest.write(name)\n",
        "  \n"
      ]
    },
    {
      "cell_type": "markdown",
      "id": "24b72b21",
      "metadata": {
        "id": "24b72b21"
      },
      "source": [
        "## Question 24\n",
        "\n",
        "**Guest Book:** Write a while loop that prompts users for their name. When they enter their name, print a greeting to the screen and add a line recording their visit in a file called guest_book.txt. Make sure each entry appears on a new line in the file."
      ]
    },
    {
      "cell_type": "code",
      "execution_count": 92,
      "id": "2326c653",
      "metadata": {
        "id": "2326c653",
        "colab": {
          "base_uri": "https://localhost:8080/"
        },
        "outputId": "de7a1aef-f4a1-4471-f013-377d0a199a90"
      },
      "outputs": [
        {
          "name": "stdout",
          "output_type": "stream",
          "text": [
            "Please enter your name: Samer\n",
            "Welcome Samer! You have been added to the guest book.\n",
            "Please enter your name: Mark\n",
            "Welcome Mark! You have been added to the guest book.\n",
            "Please enter your name: Patty\n",
            "Welcome Patty! You have been added to the guest book.\n",
            "Please enter your name: quit\n"
          ]
        }
      ],
      "source": [
        "with open(\"guest_book.txt\", \"w\") as file_guest:\n",
        "  while True:\n",
        "    name = input(\"Please enter your name: \")\n",
        "    if name == \"quit\":\n",
        "      break\n",
        "    else:\n",
        "      print(\"Welcome \"+ name + \"! You have been added to the guest book.\")\n",
        "      file_guest.write(name+\"\\n\")"
      ]
    },
    {
      "cell_type": "markdown",
      "id": "f3075d32",
      "metadata": {
        "id": "f3075d32"
      },
      "source": [
        "## Question 25\n",
        "\n",
        "**Programming Poll:** Write a while loop that asks people why they like programming. Each time someone enters a reason, add their reason to a file that stores all the responses."
      ]
    },
    {
      "cell_type": "code",
      "execution_count": 94,
      "id": "042dfb04",
      "metadata": {
        "id": "042dfb04",
        "colab": {
          "base_uri": "https://localhost:8080/"
        },
        "outputId": "7a797530-f438-4004-903f-3b692cc630d8"
      },
      "outputs": [
        {
          "name": "stdout",
          "output_type": "stream",
          "text": [
            "Why do you like programming? It makes me feel smart\n",
            "Why do you like programming? Programming makes automation easier\n",
            "Why do you like programming? I love python\n",
            "Why do you like programming? quit\n"
          ]
        }
      ],
      "source": [
        "with open(\"responses.txt\", \"w\") as file_response:\n",
        "  while True:\n",
        "    reason = input(\"Why do you like programming? \")\n",
        "    if reason == \"quit\":\n",
        "      break\n",
        "    else:\n",
        "      file_response.write(reason+\"\\n\")"
      ]
    },
    {
      "cell_type": "markdown",
      "id": "ed07a1ca",
      "metadata": {
        "id": "ed07a1ca"
      },
      "source": [
        "## Question 26\n",
        "\n",
        "**Addition:** One common problem when prompting for numerical input occurs when people provide text instead of numbers. When you try to convert the input to an int, you’ll get a ValueError. Write a program that prompts for two numbers. Add them together and print the result. Catch the ValueError if either input value is not a number, and print a friendly error message. Test your program by entering two numbers and then by entering some text instead of a number."
      ]
    },
    {
      "cell_type": "code",
      "execution_count": 99,
      "id": "eaf686f8",
      "metadata": {
        "id": "eaf686f8",
        "colab": {
          "base_uri": "https://localhost:8080/"
        },
        "outputId": "46a2adc2-3fb8-4210-ca29-fc681603d212"
      },
      "outputs": [
        {
          "output_type": "stream",
          "name": "stdout",
          "text": [
            "Please enter the first number: 9\n",
            "Please enter the second number: k\n",
            "I'm sorry, what you inputted was not a number. Please try again!\n"
          ]
        }
      ],
      "source": [
        "\n",
        "try:\n",
        "  num1 = int(input(\"Please enter the first number: \")) \n",
        "  num2 = int(input(\"Please enter the second number: \"))\n",
        "  print(num1 + num2)\n",
        "except ValueError: \n",
        "  print(\"I'm sorry, what you inputted was not a number. Please try again!\")\n"
      ]
    },
    {
      "cell_type": "markdown",
      "id": "09db5341",
      "metadata": {
        "id": "09db5341"
      },
      "source": [
        "## Question 27\n",
        "\n",
        "**Addition Calculator:** Wrap your code from Question 26 in a while loop so the user can continue entering numbers even if they make a mistake and enter text instead of a number."
      ]
    },
    {
      "cell_type": "code",
      "execution_count": 100,
      "id": "916c769d",
      "metadata": {
        "id": "916c769d",
        "colab": {
          "base_uri": "https://localhost:8080/"
        },
        "outputId": "401ad18e-88db-44df-9d9e-b29703b85723"
      },
      "outputs": [
        {
          "output_type": "stream",
          "name": "stdout",
          "text": [
            "Please enter the first number: 9\n",
            "Please enter the second number: k\n",
            "I'm sorry, what you inputted was not a number. Please try again!\n",
            "Please enter the first number: 6\n",
            "Please enter the second number: 7\n",
            "13\n"
          ]
        }
      ],
      "source": [
        "while True: \n",
        "  try:\n",
        "    num1 = int(input(\"Please enter the first number: \")) \n",
        "    num2 = int(input(\"Please enter the second number: \"))\n",
        "    print(num1 + num2)\n",
        "    break\n",
        "  except ValueError: \n",
        "    print(\"I'm sorry, what you inputted was not a number. Please try again!\")"
      ]
    },
    {
      "cell_type": "markdown",
      "id": "288099a9",
      "metadata": {
        "id": "288099a9"
      },
      "source": [
        "## Question 28\n",
        "\n",
        "**Cats and Dogs:** Make two files, _cats.txt_ and _dogs.txt_. Store at least three names of cats in the first file and three names of dogs in the second file. Write a program that tries to read these files and print the contents of the file to the screen. Wrap your code in a `try-except` block to catch the `FileNotFound` error, and print a friendly message if a file is missing. Move one of the files to a different location on your system, and make sure the code in the `except` block executes properly."
      ]
    },
    {
      "cell_type": "code",
      "execution_count": 110,
      "id": "387672f6",
      "metadata": {
        "id": "387672f6",
        "colab": {
          "base_uri": "https://localhost:8080/"
        },
        "outputId": "f02bbdc5-92c2-4966-b5be-28ff89d9ae11"
      },
      "outputs": [
        {
          "output_type": "stream",
          "name": "stdout",
          "text": [
            "I'm sorry, that file cannot be found. Please try again!\n",
            "\n",
            "\n",
            "Ruffus \n",
            "Barkley\n",
            "Pepper\n"
          ]
        }
      ],
      "source": [
        "try: \n",
        "  with open(\"cats.txt\") as cats:\n",
        "    print(cats.read())\n",
        "except FileNotFoundError:\n",
        "  print(\"I'm sorry, that file cannot be found. Please try again!\")\n",
        "print(\"\\n\")\n",
        "try: \n",
        "  with open(\"dogs.txt\") as dogs:\n",
        "    print(dogs.read())\n",
        "except FileNotFoundError:\n",
        "  print(\"I'm sorry, that file cannot be found. Please try again!\")\n"
      ]
    },
    {
      "cell_type": "markdown",
      "id": "e9d28546",
      "metadata": {
        "id": "e9d28546"
      },
      "source": [
        "## Question 29\n",
        "\n",
        "**Silent Cats and Dogs:** Modify your except block in Question 28 to fail silently if either file is missing."
      ]
    },
    {
      "cell_type": "code",
      "execution_count": 111,
      "id": "2b972722",
      "metadata": {
        "id": "2b972722",
        "colab": {
          "base_uri": "https://localhost:8080/"
        },
        "outputId": "118c095d-1241-4e1b-a50a-30e064efd70b"
      },
      "outputs": [
        {
          "output_type": "stream",
          "name": "stdout",
          "text": [
            "\n",
            "\n",
            "Ruffus \n",
            "Barkley\n",
            "Pepper\n"
          ]
        }
      ],
      "source": [
        "try: \n",
        "  with open(\"cats.txt\") as cats:\n",
        "    print(cats.read())\n",
        "except FileNotFoundError:\n",
        "  pass\n",
        "print(\"\\n\")\n",
        "try: \n",
        "  with open(\"dogs.txt\") as dogs:\n",
        "    print(dogs.read())\n",
        "except FileNotFoundError:\n",
        "  pass"
      ]
    },
    {
      "cell_type": "markdown",
      "id": "241ffab1",
      "metadata": {
        "id": "241ffab1"
      },
      "source": [
        "## Question 30\n",
        "\n",
        "**Common Words:** Visit Project Gutenberg (<https://gutenberg.org/>) and find a few texts you’d like to analyze. Download the text files for these works, or copy the raw text from your browser into a text file on your computer. You can use the `count()` method to find out how many times a word or phrase appears in a string. For example, the following code counts the number of times 'row' appears in a string:"
      ]
    },
    {
      "cell_type": "code",
      "execution_count": null,
      "id": "2a017ac9",
      "metadata": {
        "id": "2a017ac9"
      },
      "outputs": [],
      "source": [
        "line = \"Row, row, row your boat\"\n",
        "line.count('row')"
      ]
    },
    {
      "cell_type": "code",
      "execution_count": null,
      "id": "41707165",
      "metadata": {
        "id": "41707165"
      },
      "outputs": [],
      "source": [
        "line.lower().count('row')"
      ]
    },
    {
      "cell_type": "markdown",
      "id": "5652cc4d",
      "metadata": {
        "id": "5652cc4d"
      },
      "source": [
        "Notice that converting the string to lowercase using lower() catches all appearances of the word you’re looking for, regardless of how it’s formatted.\n",
        "\n",
        "Write a program that reads the files you found at Project Gutenberg and determines how many times the word `the` appears in each text. This will be an approximation because it will also count words such as `then` and `there`. Try counting `the`, with a space in the string, and see how much lower your count is."
      ]
    },
    {
      "cell_type": "code",
      "execution_count": 118,
      "id": "55ab2af3",
      "metadata": {
        "id": "55ab2af3",
        "colab": {
          "base_uri": "https://localhost:8080/"
        },
        "outputId": "8936976e-7553-4ff0-ed64-83ebd6a036f5"
      },
      "outputs": [
        {
          "output_type": "stream",
          "name": "stdout",
          "text": [
            "Little Women has the word 'the' 6809 times.\n",
            "Romeo and Juliet has the word 'the' 757 times.\n",
            "A Room with a View has the word 'the' 2682 times.\n"
          ]
        }
      ],
      "source": [
        "with open(\"littlewomen.txt\") as LW:\n",
        "  lines = LW.readlines()\n",
        "  the_count = 0\n",
        "  for line in lines:\n",
        "    the_count += line.lower().count(\" the \")\n",
        "  print(\"Little Women has the word 'the' \" + str(the_count) + \" times.\")\n",
        "\n",
        "with open(\"romeoandjuliet.txt\") as RJ:\n",
        "  lines = RJ.readlines()\n",
        "  the_count = 0\n",
        "  for line in lines:\n",
        "    the_count += line.lower().count(\" the \")\n",
        "  print(\"Romeo and Juliet has the word 'the' \" + str(the_count) + \" times.\")\n",
        "\n",
        "with open(\"roomwithaview.txt\") as RV:\n",
        "  lines = RV.readlines()\n",
        "  the_count = 0\n",
        "  for line in lines:\n",
        "    the_count += line.lower().count(\" the \")\n",
        "  print(\"A Room with a View has the word 'the' \" + str(the_count) + \" times.\")"
      ]
    }
  ],
  "metadata": {
    "kernelspec": {
      "display_name": "Python 3",
      "language": "python",
      "name": "python3"
    },
    "colab": {
      "provenance": [],
      "include_colab_link": true
    }
  },
  "nbformat": 4,
  "nbformat_minor": 5
}